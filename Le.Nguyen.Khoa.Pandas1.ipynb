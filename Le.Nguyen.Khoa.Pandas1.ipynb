{
 "cells": [
  {
   "cell_type": "markdown",
   "metadata": {},
   "source": [
    "**Import packages**"
   ]
  },
  {
   "cell_type": "code",
   "execution_count": 1,
   "metadata": {},
   "outputs": [],
   "source": [
    "import pandas as pd\n",
    "import numpy as np"
   ]
  },
  {
   "cell_type": "markdown",
   "metadata": {},
   "source": [
    "## Part 1\n",
    "**2.1.1 Read the CSV files from all three categories (Restaurant, Rating and Consumers) and store them separately in Pandas dataframes.**"
   ]
  },
  {
   "cell_type": "code",
   "execution_count": 2,
   "metadata": {},
   "outputs": [],
   "source": [
    "# Restaurants\n",
    "chefmozaccepts = pd.read_csv('./Restaurant-data/chefmozaccepts.csv', delimiter=',')\n",
    "chefmozcuisine = pd.read_csv('./Restaurant-data/chefmozcuisine.csv', delimiter=',')\n",
    "chefmozhours4 = pd.read_csv('./Restaurant-data/chefmozhours4.csv', delimiter=',')\n",
    "chefmozparking = pd.read_csv('./Restaurant-data/chefmozparking.csv', delimiter=',')\n",
    "geoplaces2 = pd.read_csv('./Restaurant-data/geoplaces2.csv', delimiter=',', encoding='latin1')\n",
    "\n",
    "# Customers\n",
    "usercuisine = pd.read_csv('./Restaurant-data/usercuisine.csv', delimiter=',')\n",
    "userpayment = pd.read_csv('./Restaurant-data/userpayment.csv', delimiter=',')\n",
    "userprofile = pd.read_csv('./Restaurant-data/userprofile.csv', delimiter=',')\n",
    "\n",
    "# Rating\n",
    "rating_final = pd.read_csv('./Restaurant-data/rating_final.csv', delimiter=',')"
   ]
  },
  {
   "cell_type": "markdown",
   "metadata": {},
   "source": [
    "**2.1.2 Clean each data frame:**  \n",
    "- **chefmozaccepts.csv**"
   ]
  },
  {
   "cell_type": "code",
   "execution_count": 3,
   "metadata": {},
   "outputs": [
    {
     "data": {
      "text/plain": [
       "placeID     0\n",
       "Rpayment    0\n",
       "dtype: int64"
      ]
     },
     "execution_count": 3,
     "metadata": {},
     "output_type": "execute_result"
    }
   ],
   "source": [
    "# Checking for null value\n",
    "chefmozaccepts.isnull().sum(0)"
   ]
  },
  {
   "cell_type": "code",
   "execution_count": 4,
   "metadata": {},
   "outputs": [
    {
     "data": {
      "text/plain": [
       "array(['cash', 'VISA', 'MasterCard-Eurocard', 'American_Express',\n",
       "       'bank_debit_cards', 'checks', 'Discover', 'Carte_Blanche',\n",
       "       'Diners_Club', 'Visa', 'Japan_Credit_Bureau', 'gift_certificates'],\n",
       "      dtype=object)"
      ]
     },
     "execution_count": 4,
     "metadata": {},
     "output_type": "execute_result"
    }
   ],
   "source": [
    "# Checking the unique values in Rpayment\n",
    "chefmozaccepts.Rpayment.unique()"
   ]
  },
  {
   "cell_type": "markdown",
   "metadata": {},
   "source": [
    "We can replace \"Visa\" by \"VISA\" since they should be the same value"
   ]
  },
  {
   "cell_type": "code",
   "execution_count": 5,
   "metadata": {},
   "outputs": [
    {
     "data": {
      "text/plain": [
       "array(['cash', 'VISA', 'MasterCard-Eurocard', 'American_Express',\n",
       "       'bank_debit_cards', 'checks', 'Discover', 'Carte_Blanche',\n",
       "       'Diners_Club', 'Japan_Credit_Bureau', 'gift_certificates'],\n",
       "      dtype=object)"
      ]
     },
     "execution_count": 5,
     "metadata": {},
     "output_type": "execute_result"
    }
   ],
   "source": [
    "chefmozaccepts.Rpayment.replace(to_replace='Visa', value='VISA', inplace=True)\n",
    "chefmozaccepts.Rpayment.unique()"
   ]
  },
  {
   "cell_type": "code",
   "execution_count": 6,
   "metadata": {},
   "outputs": [
    {
     "data": {
      "text/plain": [
       "0"
      ]
     },
     "execution_count": 6,
     "metadata": {},
     "output_type": "execute_result"
    }
   ],
   "source": [
    "# Checking duplicate values\n",
    "chefmozaccepts.duplicated().sum()"
   ]
  },
  {
   "cell_type": "markdown",
   "metadata": {},
   "source": [
    "- **chefmozcuisine.csv**"
   ]
  },
  {
   "cell_type": "code",
   "execution_count": 7,
   "metadata": {},
   "outputs": [
    {
     "data": {
      "text/plain": [
       "placeID     0\n",
       "Rcuisine    0\n",
       "dtype: int64"
      ]
     },
     "execution_count": 7,
     "metadata": {},
     "output_type": "execute_result"
    }
   ],
   "source": [
    "# Checking for null value\n",
    "chefmozcuisine.isnull().sum(0)"
   ]
  },
  {
   "cell_type": "code",
   "execution_count": 8,
   "metadata": {},
   "outputs": [
    {
     "data": {
      "text/plain": [
       "0"
      ]
     },
     "execution_count": 8,
     "metadata": {},
     "output_type": "execute_result"
    }
   ],
   "source": [
    "# Checking duplicate values\n",
    "chefmozcuisine.duplicated().sum()"
   ]
  },
  {
   "cell_type": "markdown",
   "metadata": {},
   "source": [
    "- **chefmozhours4.csv**"
   ]
  },
  {
   "cell_type": "code",
   "execution_count": 9,
   "metadata": {},
   "outputs": [
    {
     "data": {
      "text/plain": [
       "placeID    0\n",
       "hours      0\n",
       "days       0\n",
       "dtype: int64"
      ]
     },
     "execution_count": 9,
     "metadata": {},
     "output_type": "execute_result"
    }
   ],
   "source": [
    "# Checking for null value\n",
    "chefmozhours4.isnull().sum(0)"
   ]
  },
  {
   "cell_type": "code",
   "execution_count": 10,
   "metadata": {},
   "outputs": [
    {
     "data": {
      "text/plain": [
       "271"
      ]
     },
     "execution_count": 10,
     "metadata": {},
     "output_type": "execute_result"
    }
   ],
   "source": [
    "# Checking duplicate values\n",
    "chefmozhours4.duplicated().sum()"
   ]
  },
  {
   "cell_type": "code",
   "execution_count": 11,
   "metadata": {},
   "outputs": [
    {
     "data": {
      "text/html": [
       "<div>\n",
       "<style scoped>\n",
       "    .dataframe tbody tr th:only-of-type {\n",
       "        vertical-align: middle;\n",
       "    }\n",
       "\n",
       "    .dataframe tbody tr th {\n",
       "        vertical-align: top;\n",
       "    }\n",
       "\n",
       "    .dataframe thead th {\n",
       "        text-align: right;\n",
       "    }\n",
       "</style>\n",
       "<table border=\"1\" class=\"dataframe\">\n",
       "  <thead>\n",
       "    <tr style=\"text-align: right;\">\n",
       "      <th></th>\n",
       "      <th>placeID</th>\n",
       "      <th>hours</th>\n",
       "      <th>days</th>\n",
       "    </tr>\n",
       "  </thead>\n",
       "  <tbody>\n",
       "    <tr>\n",
       "      <th>2335</th>\n",
       "      <td>132012</td>\n",
       "      <td>12:00-22:00;</td>\n",
       "      <td>Mon;Tue;Wed;Thu;Fri;</td>\n",
       "    </tr>\n",
       "    <tr>\n",
       "      <th>2336</th>\n",
       "      <td>132012</td>\n",
       "      <td>12:00-22:00;</td>\n",
       "      <td>Mon;Tue;Wed;Thu;Fri;</td>\n",
       "    </tr>\n",
       "    <tr>\n",
       "      <th>2337</th>\n",
       "      <td>132012</td>\n",
       "      <td>12:00-22:00;</td>\n",
       "      <td>Sat;</td>\n",
       "    </tr>\n",
       "    <tr>\n",
       "      <th>2338</th>\n",
       "      <td>132012</td>\n",
       "      <td>12:00-22:00;</td>\n",
       "      <td>Sat;</td>\n",
       "    </tr>\n",
       "    <tr>\n",
       "      <th>2333</th>\n",
       "      <td>132012</td>\n",
       "      <td>12:00-22:00;</td>\n",
       "      <td>Sun;</td>\n",
       "    </tr>\n",
       "    <tr>\n",
       "      <th>2334</th>\n",
       "      <td>132012</td>\n",
       "      <td>12:00-22:00;</td>\n",
       "      <td>Sun;</td>\n",
       "    </tr>\n",
       "    <tr>\n",
       "      <th>2331</th>\n",
       "      <td>132023</td>\n",
       "      <td>11:00-00:00;</td>\n",
       "      <td>Mon;Tue;Wed;Thu;Fri;</td>\n",
       "    </tr>\n",
       "    <tr>\n",
       "      <th>2332</th>\n",
       "      <td>132023</td>\n",
       "      <td>11:00-00:00;</td>\n",
       "      <td>Mon;Tue;Wed;Thu;Fri;</td>\n",
       "    </tr>\n",
       "    <tr>\n",
       "      <th>2327</th>\n",
       "      <td>132023</td>\n",
       "      <td>11:00-00:00;</td>\n",
       "      <td>Sat;</td>\n",
       "    </tr>\n",
       "    <tr>\n",
       "      <th>2328</th>\n",
       "      <td>132023</td>\n",
       "      <td>11:00-00:00;</td>\n",
       "      <td>Sat;</td>\n",
       "    </tr>\n",
       "  </tbody>\n",
       "</table>\n",
       "</div>"
      ],
      "text/plain": [
       "      placeID         hours                  days\n",
       "2335   132012  12:00-22:00;  Mon;Tue;Wed;Thu;Fri;\n",
       "2336   132012  12:00-22:00;  Mon;Tue;Wed;Thu;Fri;\n",
       "2337   132012  12:00-22:00;                  Sat;\n",
       "2338   132012  12:00-22:00;                  Sat;\n",
       "2333   132012  12:00-22:00;                  Sun;\n",
       "2334   132012  12:00-22:00;                  Sun;\n",
       "2331   132023  11:00-00:00;  Mon;Tue;Wed;Thu;Fri;\n",
       "2332   132023  11:00-00:00;  Mon;Tue;Wed;Thu;Fri;\n",
       "2327   132023  11:00-00:00;                  Sat;\n",
       "2328   132023  11:00-00:00;                  Sat;"
      ]
     },
     "execution_count": 11,
     "metadata": {},
     "output_type": "execute_result"
    }
   ],
   "source": [
    "# Print some duplicated rows\n",
    "pd.concat(h for index, h in chefmozhours4.groupby(['placeID', 'hours', 'days']) if len(h) > 1).head(10)"
   ]
  },
  {
   "cell_type": "code",
   "execution_count": 12,
   "metadata": {},
   "outputs": [
    {
     "data": {
      "text/plain": [
       "0"
      ]
     },
     "execution_count": 12,
     "metadata": {},
     "output_type": "execute_result"
    }
   ],
   "source": [
    "# Drop duplicates\n",
    "chefmozhours4.drop_duplicates(subset=['placeID', 'hours', 'days'], inplace=True)\n",
    "chefmozhours4.duplicated().sum()"
   ]
  },
  {
   "cell_type": "markdown",
   "metadata": {},
   "source": [
    "- **chefmozparking.csv**"
   ]
  },
  {
   "cell_type": "code",
   "execution_count": 13,
   "metadata": {},
   "outputs": [
    {
     "data": {
      "text/plain": [
       "placeID        0\n",
       "parking_lot    0\n",
       "dtype: int64"
      ]
     },
     "execution_count": 13,
     "metadata": {},
     "output_type": "execute_result"
    }
   ],
   "source": [
    "# Checking for null value\n",
    "chefmozparking.isnull().sum(0)"
   ]
  },
  {
   "cell_type": "code",
   "execution_count": 14,
   "metadata": {},
   "outputs": [
    {
     "data": {
      "text/plain": [
       "0"
      ]
     },
     "execution_count": 14,
     "metadata": {},
     "output_type": "execute_result"
    }
   ],
   "source": [
    "# Checking duplicate values\n",
    "chefmozparking.duplicated().sum()"
   ]
  },
  {
   "cell_type": "markdown",
   "metadata": {},
   "source": [
    "- **geoplaces2.csv**"
   ]
  },
  {
   "cell_type": "code",
   "execution_count": 15,
   "metadata": {},
   "outputs": [
    {
     "data": {
      "text/plain": [
       "placeID           0\n",
       "latitude          0\n",
       "longitude         0\n",
       "the_geom_meter    0\n",
       "name              0\n",
       "address           0\n",
       "city              0\n",
       "state             0\n",
       "country           0\n",
       "fax               0\n",
       "zip               0\n",
       "alcohol           0\n",
       "smoking_area      0\n",
       "dress_code        0\n",
       "accessibility     0\n",
       "price             0\n",
       "url               0\n",
       "Rambience         0\n",
       "franchise         0\n",
       "area              0\n",
       "other_services    0\n",
       "dtype: int64"
      ]
     },
     "execution_count": 15,
     "metadata": {},
     "output_type": "execute_result"
    }
   ],
   "source": [
    "# Checking for null value\n",
    "geoplaces2.isnull().sum(0)"
   ]
  },
  {
   "cell_type": "code",
   "execution_count": 16,
   "metadata": {},
   "outputs": [
    {
     "data": {
      "text/plain": [
       "placeID             0\n",
       "latitude            0\n",
       "longitude           0\n",
       "the_geom_meter      0\n",
       "name                0\n",
       "address            27\n",
       "city               18\n",
       "state              18\n",
       "country            28\n",
       "fax               130\n",
       "zip                74\n",
       "alcohol             0\n",
       "smoking_area        0\n",
       "dress_code          0\n",
       "accessibility       0\n",
       "price               0\n",
       "url               116\n",
       "Rambience           0\n",
       "franchise           0\n",
       "area                0\n",
       "other_services      0\n",
       "dtype: int64"
      ]
     },
     "execution_count": 16,
     "metadata": {},
     "output_type": "execute_result"
    }
   ],
   "source": [
    "# Replace '?' by NaN\n",
    "geoplaces2.replace(to_replace='?', value=np.NaN, inplace=True)\n",
    "# Then checking for null value again\n",
    "geoplaces2.isnull().sum(0)"
   ]
  },
  {
   "cell_type": "markdown",
   "metadata": {},
   "source": [
    "We drop columns that has a lot of missing data using function `dropna`. We only keep columns that have at least 60% non-missing values, i.e. we will drop columns `fax`, `zip` and `url`."
   ]
  },
  {
   "cell_type": "code",
   "execution_count": 17,
   "metadata": {},
   "outputs": [
    {
     "data": {
      "text/plain": [
       "placeID            0\n",
       "latitude           0\n",
       "longitude          0\n",
       "the_geom_meter     0\n",
       "name               0\n",
       "address           27\n",
       "city              18\n",
       "state             18\n",
       "country           28\n",
       "alcohol            0\n",
       "smoking_area       0\n",
       "dress_code         0\n",
       "accessibility      0\n",
       "price              0\n",
       "Rambience          0\n",
       "franchise          0\n",
       "area               0\n",
       "other_services     0\n",
       "dtype: int64"
      ]
     },
     "execution_count": 17,
     "metadata": {},
     "output_type": "execute_result"
    }
   ],
   "source": [
    "geoplaces2.dropna(thresh=80, axis=1, inplace=True)\n",
    "geoplaces2.isnull().sum(0)"
   ]
  },
  {
   "cell_type": "markdown",
   "metadata": {},
   "source": [
    "Next, we should check for the duplicate values in `country`, `state` and `city`"
   ]
  },
  {
   "cell_type": "code",
   "execution_count": 18,
   "metadata": {},
   "outputs": [
    {
     "data": {
      "text/plain": [
       "array(['Mexico', 'mexico', nan], dtype=object)"
      ]
     },
     "execution_count": 18,
     "metadata": {},
     "output_type": "execute_result"
    }
   ],
   "source": [
    "# Checking the unique values in country\n",
    "geoplaces2.country.unique()"
   ]
  },
  {
   "cell_type": "markdown",
   "metadata": {},
   "source": [
    "We see that 'mexico' and 'Mexico' should be the same value. Also, since 'Mexico' is the only one country in the dataset, then we can replace NaN values by 'Mexico' as well. That means we can fill all missing values in `country` by 'Mexico'."
   ]
  },
  {
   "cell_type": "code",
   "execution_count": 19,
   "metadata": {},
   "outputs": [
    {
     "data": {
      "text/plain": [
       "array(['Mexico'], dtype=object)"
      ]
     },
     "execution_count": 19,
     "metadata": {},
     "output_type": "execute_result"
    }
   ],
   "source": [
    "geoplaces2.country.replace(to_replace=['mexico', np.NaN], value=['Mexico', 'Mexico'], inplace=True)\n",
    "geoplaces2.country.unique()"
   ]
  },
  {
   "cell_type": "code",
   "execution_count": 20,
   "metadata": {},
   "outputs": [
    {
     "data": {
      "text/plain": [
       "array(['Morelos', 's.l.p.', 'San Luis Potosi', 'tamaulipas', 'Tamaulipas',\n",
       "       'SLP', nan, 'san luis potosi', 'morelos', 'slp', 'mexico',\n",
       "       'san luis potos', 'S.L.P.'], dtype=object)"
      ]
     },
     "execution_count": 20,
     "metadata": {},
     "output_type": "execute_result"
    }
   ],
   "source": [
    "# Checking the unique values in state\n",
    "geoplaces2.state.unique()"
   ]
  },
  {
   "cell_type": "markdown",
   "metadata": {},
   "source": [
    "From the observations, we can replace 's.l.p.', 'SLP', 'slp', 'S.L.P.', 'san luis potos' and 'san luis potosi' by 'San Luis Potosi'; replace 'tamaulipas' by 'Tamaulipas'; replace 'morelos' by 'Morelos'"
   ]
  },
  {
   "cell_type": "code",
   "execution_count": 21,
   "metadata": {},
   "outputs": [
    {
     "data": {
      "text/plain": [
       "array(['Morelos', 'San Luis Potosi', 'Tamaulipas', nan, 'mexico'],\n",
       "      dtype=object)"
      ]
     },
     "execution_count": 21,
     "metadata": {},
     "output_type": "execute_result"
    }
   ],
   "source": [
    "geoplaces2.state.replace(to_replace={\n",
    "    's.l.p.': 'San Luis Potosi',\n",
    "    'SLP': 'San Luis Potosi',\n",
    "    'slp': 'San Luis Potosi',\n",
    "    'S.L.P.': 'San Luis Potosi',\n",
    "    'san luis potos': 'San Luis Potosi',\n",
    "    'san luis potosi': 'San Luis Potosi',\n",
    "    'tamaulipas': 'Tamaulipas',\n",
    "    'morelos': 'Morelos'\n",
    "}, inplace=True)\n",
    "geoplaces2.state.unique()"
   ]
  },
  {
   "cell_type": "code",
   "execution_count": 22,
   "metadata": {},
   "outputs": [
    {
     "data": {
      "text/plain": [
       "array(['Cuernavaca', 's.l.p.', 'San Luis Potosi', 'victoria ', 'victoria',\n",
       "       'Cd Victoria', nan, 'san luis potosi', 'Jiutepec', 'cuernavaca',\n",
       "       'slp', 'Soledad', 'san luis potos', 'san luis potosi ',\n",
       "       'Ciudad Victoria', 'Cd. Victoria', 's.l.p'], dtype=object)"
      ]
     },
     "execution_count": 22,
     "metadata": {},
     "output_type": "execute_result"
    }
   ],
   "source": [
    "# Checking the unique values in city\n",
    "geoplaces2.city.unique()"
   ]
  },
  {
   "cell_type": "markdown",
   "metadata": {},
   "source": [
    "We should strip the spaces first"
   ]
  },
  {
   "cell_type": "code",
   "execution_count": 23,
   "metadata": {},
   "outputs": [
    {
     "data": {
      "text/plain": [
       "array(['Cuernavaca', 's.l.p.', 'San Luis Potosi', 'victoria',\n",
       "       'Cd Victoria', nan, 'san luis potosi', 'Jiutepec', 'cuernavaca',\n",
       "       'slp', 'Soledad', 'san luis potos', 'Ciudad Victoria',\n",
       "       'Cd. Victoria', 's.l.p'], dtype=object)"
      ]
     },
     "execution_count": 23,
     "metadata": {},
     "output_type": "execute_result"
    }
   ],
   "source": [
    "geoplaces2.city = geoplaces2.city.str.strip()\n",
    "geoplaces2.city.unique()"
   ]
  },
  {
   "cell_type": "markdown",
   "metadata": {},
   "source": [
    "From the observations, we can replace 's.l.p.', 's.l.p', 'slp', 'san luis potosi' and 'san luis potos' by 'San Luis Potosi'; replace 'cuernavaca' by 'Cuernavaca'; replace 'victoria', 'Cd Victoria', 'Cd. Victoria' by 'Ciudad Victoria'"
   ]
  },
  {
   "cell_type": "code",
   "execution_count": 24,
   "metadata": {
    "scrolled": true
   },
   "outputs": [
    {
     "data": {
      "text/plain": [
       "array(['Cuernavaca', 'San Luis Potosi', 'Ciudad Victoria', nan,\n",
       "       'Jiutepec', 'Soledad'], dtype=object)"
      ]
     },
     "execution_count": 24,
     "metadata": {},
     "output_type": "execute_result"
    }
   ],
   "source": [
    "geoplaces2.city.replace(to_replace={\n",
    "    's.l.p.': 'San Luis Potosi',\n",
    "    's.l.p': 'San Luis Potosi',\n",
    "    'slp': 'San Luis Potosi',\n",
    "    'san luis potos': 'San Luis Potosi',\n",
    "    'san luis potosi': 'San Luis Potosi',\n",
    "    'cuernavaca': 'Cuernavaca',\n",
    "    'victoria': 'Ciudad Victoria',\n",
    "    'Cd Victoria': 'Ciudad Victoria',\n",
    "    'Cd. Victoria': 'Ciudad Victoria'\n",
    "}, inplace=True)\n",
    "geoplaces2.city.unique()"
   ]
  },
  {
   "cell_type": "markdown",
   "metadata": {},
   "source": [
    "Next, we need to fill the missing values in the columns `address`, `city`, and `state`"
   ]
  },
  {
   "cell_type": "code",
   "execution_count": 25,
   "metadata": {},
   "outputs": [
    {
     "data": {
      "text/plain": [
       "placeID            0\n",
       "latitude           0\n",
       "longitude          0\n",
       "the_geom_meter     0\n",
       "name               0\n",
       "address           27\n",
       "city              18\n",
       "state             18\n",
       "country            0\n",
       "alcohol            0\n",
       "smoking_area       0\n",
       "dress_code         0\n",
       "accessibility      0\n",
       "price              0\n",
       "Rambience          0\n",
       "franchise          0\n",
       "area               0\n",
       "other_services     0\n",
       "dtype: int64"
      ]
     },
     "execution_count": 25,
     "metadata": {},
     "output_type": "execute_result"
    }
   ],
   "source": [
    "geoplaces2.isnull().sum(0)"
   ]
  },
  {
   "cell_type": "markdown",
   "metadata": {},
   "source": [
    "My idea is the geo-locations that near together will have closed values on latitude and longitude. So we can fill the missing values in the columns `address`, `city`, and `state` by:\n",
    "  - Sorting the dataframe by ['latitude', 'longitude']\n",
    "  - Then, using `fillna` with 'ffill' method to propagate the previous value forward"
   ]
  },
  {
   "cell_type": "code",
   "execution_count": 26,
   "metadata": {},
   "outputs": [
    {
     "data": {
      "text/plain": [
       "placeID           0\n",
       "latitude          0\n",
       "longitude         0\n",
       "the_geom_meter    0\n",
       "name              0\n",
       "address           0\n",
       "city              0\n",
       "state             0\n",
       "country           0\n",
       "alcohol           0\n",
       "smoking_area      0\n",
       "dress_code        0\n",
       "accessibility     0\n",
       "price             0\n",
       "Rambience         0\n",
       "franchise         0\n",
       "area              0\n",
       "other_services    0\n",
       "dtype: int64"
      ]
     },
     "execution_count": 26,
     "metadata": {},
     "output_type": "execute_result"
    }
   ],
   "source": [
    "geoplaces2.sort_values(by=['latitude', 'longitude'], inplace=True)\n",
    "geoplaces2.fillna(method='ffill', inplace=True)\n",
    "geoplaces2.isnull().sum(0)"
   ]
  },
  {
   "cell_type": "code",
   "execution_count": 27,
   "metadata": {},
   "outputs": [
    {
     "data": {
      "text/plain": [
       "0"
      ]
     },
     "execution_count": 27,
     "metadata": {},
     "output_type": "execute_result"
    }
   ],
   "source": [
    "# Checking duplicate values\n",
    "geoplaces2.placeID.duplicated().sum()"
   ]
  },
  {
   "cell_type": "markdown",
   "metadata": {},
   "source": [
    "- **usercuisine.csv**"
   ]
  },
  {
   "cell_type": "code",
   "execution_count": 28,
   "metadata": {},
   "outputs": [
    {
     "data": {
      "text/plain": [
       "userID      0\n",
       "Rcuisine    0\n",
       "dtype: int64"
      ]
     },
     "execution_count": 28,
     "metadata": {},
     "output_type": "execute_result"
    }
   ],
   "source": [
    "# Checking for null value\n",
    "usercuisine.isnull().sum(0)"
   ]
  },
  {
   "cell_type": "code",
   "execution_count": 29,
   "metadata": {},
   "outputs": [
    {
     "data": {
      "text/plain": [
       "0"
      ]
     },
     "execution_count": 29,
     "metadata": {},
     "output_type": "execute_result"
    }
   ],
   "source": [
    "# Checking duplicate values\n",
    "usercuisine.duplicated().sum()"
   ]
  },
  {
   "cell_type": "markdown",
   "metadata": {},
   "source": [
    "- **userpayment.csv**"
   ]
  },
  {
   "cell_type": "code",
   "execution_count": 30,
   "metadata": {},
   "outputs": [
    {
     "data": {
      "text/plain": [
       "userID      0\n",
       "Upayment    0\n",
       "dtype: int64"
      ]
     },
     "execution_count": 30,
     "metadata": {},
     "output_type": "execute_result"
    }
   ],
   "source": [
    "# Checking for null value\n",
    "userpayment.isnull().sum(0)"
   ]
  },
  {
   "cell_type": "code",
   "execution_count": 31,
   "metadata": {},
   "outputs": [
    {
     "data": {
      "text/plain": [
       "array(['cash', 'bank_debit_cards', 'MasterCard-Eurocard', 'VISA',\n",
       "       'American_Express'], dtype=object)"
      ]
     },
     "execution_count": 31,
     "metadata": {},
     "output_type": "execute_result"
    }
   ],
   "source": [
    "# Checking the unique values in Rcuisine\n",
    "userpayment.Upayment.unique()"
   ]
  },
  {
   "cell_type": "code",
   "execution_count": 32,
   "metadata": {},
   "outputs": [
    {
     "data": {
      "text/plain": [
       "0"
      ]
     },
     "execution_count": 32,
     "metadata": {},
     "output_type": "execute_result"
    }
   ],
   "source": [
    "# Checking duplicate values\n",
    "userpayment.duplicated().sum()"
   ]
  },
  {
   "cell_type": "markdown",
   "metadata": {},
   "source": [
    "- **userprofile.csv**"
   ]
  },
  {
   "cell_type": "code",
   "execution_count": 33,
   "metadata": {},
   "outputs": [
    {
     "data": {
      "text/plain": [
       "userID              0\n",
       "latitude            0\n",
       "longitude           0\n",
       "smoker              0\n",
       "drink_level         0\n",
       "dress_preference    0\n",
       "ambience            0\n",
       "transport           0\n",
       "marital_status      0\n",
       "hijos               0\n",
       "birth_year          0\n",
       "interest            0\n",
       "personality         0\n",
       "religion            0\n",
       "activity            0\n",
       "color               0\n",
       "weight              0\n",
       "budget              0\n",
       "height              0\n",
       "dtype: int64"
      ]
     },
     "execution_count": 33,
     "metadata": {},
     "output_type": "execute_result"
    }
   ],
   "source": [
    "# Checking for null value\n",
    "userprofile.isnull().sum(0)"
   ]
  },
  {
   "cell_type": "code",
   "execution_count": 34,
   "metadata": {},
   "outputs": [
    {
     "data": {
      "text/plain": [
       "userID               0\n",
       "latitude             0\n",
       "longitude            0\n",
       "smoker               3\n",
       "drink_level          0\n",
       "dress_preference     5\n",
       "ambience             6\n",
       "transport            7\n",
       "marital_status       4\n",
       "hijos               11\n",
       "birth_year           0\n",
       "interest             0\n",
       "personality          0\n",
       "religion             0\n",
       "activity             7\n",
       "color                0\n",
       "weight               0\n",
       "budget               7\n",
       "height               0\n",
       "dtype: int64"
      ]
     },
     "execution_count": 34,
     "metadata": {},
     "output_type": "execute_result"
    }
   ],
   "source": [
    "# Replace '?' by NaN\n",
    "userprofile.replace(to_replace='?', value=np.NaN, inplace=True)\n",
    "# Then checking for null value again\n",
    "userprofile.isnull().sum(0)"
   ]
  },
  {
   "cell_type": "markdown",
   "metadata": {},
   "source": [
    "We need to fill the missing values in `smoker`, `dress_preference`, `ambience`, `transport`, `marital_status`, `hijos`, `activity`, and `budget`."
   ]
  },
  {
   "cell_type": "markdown",
   "metadata": {},
   "source": [
    "To fill the missing values in `smoker`, we look for the relation between `smoker` and `drink_level` & `religion`"
   ]
  },
  {
   "cell_type": "code",
   "execution_count": 35,
   "metadata": {},
   "outputs": [
    {
     "data": {
      "text/html": [
       "<div>\n",
       "<style scoped>\n",
       "    .dataframe tbody tr th:only-of-type {\n",
       "        vertical-align: middle;\n",
       "    }\n",
       "\n",
       "    .dataframe tbody tr th {\n",
       "        vertical-align: top;\n",
       "    }\n",
       "\n",
       "    .dataframe thead tr th {\n",
       "        text-align: left;\n",
       "    }\n",
       "\n",
       "    .dataframe thead tr:last-of-type th {\n",
       "        text-align: right;\n",
       "    }\n",
       "</style>\n",
       "<table border=\"1\" class=\"dataframe\">\n",
       "  <thead>\n",
       "    <tr>\n",
       "      <th></th>\n",
       "      <th></th>\n",
       "      <th>sum</th>\n",
       "      <th>len</th>\n",
       "    </tr>\n",
       "    <tr>\n",
       "      <th></th>\n",
       "      <th></th>\n",
       "      <th>smoker</th>\n",
       "      <th>smoker</th>\n",
       "    </tr>\n",
       "    <tr>\n",
       "      <th>religion</th>\n",
       "      <th>drink_level</th>\n",
       "      <th></th>\n",
       "      <th></th>\n",
       "    </tr>\n",
       "  </thead>\n",
       "  <tbody>\n",
       "    <tr>\n",
       "      <th rowspan=\"3\" valign=\"top\">Catholic</th>\n",
       "      <th>abstemious</th>\n",
       "      <td>1</td>\n",
       "      <td>35</td>\n",
       "    </tr>\n",
       "    <tr>\n",
       "      <th>casual drinker</th>\n",
       "      <td>8</td>\n",
       "      <td>33</td>\n",
       "    </tr>\n",
       "    <tr>\n",
       "      <th>social drinker</th>\n",
       "      <td>11</td>\n",
       "      <td>31</td>\n",
       "    </tr>\n",
       "    <tr>\n",
       "      <th rowspan=\"3\" valign=\"top\">Christian</th>\n",
       "      <th>abstemious</th>\n",
       "      <td>0</td>\n",
       "      <td>3</td>\n",
       "    </tr>\n",
       "    <tr>\n",
       "      <th>casual drinker</th>\n",
       "      <td>1</td>\n",
       "      <td>3</td>\n",
       "    </tr>\n",
       "    <tr>\n",
       "      <th>social drinker</th>\n",
       "      <td>0</td>\n",
       "      <td>1</td>\n",
       "    </tr>\n",
       "    <tr>\n",
       "      <th>Jewish</th>\n",
       "      <th>abstemious</th>\n",
       "      <td>0</td>\n",
       "      <td>1</td>\n",
       "    </tr>\n",
       "    <tr>\n",
       "      <th>Mormon</th>\n",
       "      <th>casual drinker</th>\n",
       "      <td>0</td>\n",
       "      <td>1</td>\n",
       "    </tr>\n",
       "    <tr>\n",
       "      <th rowspan=\"3\" valign=\"top\">none</th>\n",
       "      <th>abstemious</th>\n",
       "      <td>0</td>\n",
       "      <td>9</td>\n",
       "    </tr>\n",
       "    <tr>\n",
       "      <th>casual drinker</th>\n",
       "      <td>3</td>\n",
       "      <td>10</td>\n",
       "    </tr>\n",
       "    <tr>\n",
       "      <th>social drinker</th>\n",
       "      <td>2</td>\n",
       "      <td>8</td>\n",
       "    </tr>\n",
       "  </tbody>\n",
       "</table>\n",
       "</div>"
      ],
      "text/plain": [
       "                            sum    len\n",
       "                         smoker smoker\n",
       "religion  drink_level                 \n",
       "Catholic  abstemious          1     35\n",
       "          casual drinker      8     33\n",
       "          social drinker     11     31\n",
       "Christian abstemious          0      3\n",
       "          casual drinker      1      3\n",
       "          social drinker      0      1\n",
       "Jewish    abstemious          0      1\n",
       "Mormon    casual drinker      0      1\n",
       "none      abstemious          0      9\n",
       "          casual drinker      3     10\n",
       "          social drinker      2      8"
      ]
     },
     "execution_count": 35,
     "metadata": {},
     "output_type": "execute_result"
    }
   ],
   "source": [
    "dsr = userprofile.dropna(subset=['smoker']).loc[:, ['drink_level', 'smoker', 'religion']]\n",
    "# Replace the ['false', 'true'] by [0, 1] to be able to calculate the sum = the number of user who is smoker\n",
    "dsr.smoker.replace({'false': 0, 'true': 1}, inplace=True)\n",
    "impute_dsr = dsr.pivot_table(values=['smoker'], index=['religion', 'drink_level'], aggfunc=[sum, len])\n",
    "impute_dsr"
   ]
  },
  {
   "cell_type": "markdown",
   "metadata": {},
   "source": [
    "We can observe that: if user's religion is 'Catholic' or 'none' and user's drink level is 'casual drinker' or 'social drinker' then user's smoker can be 'true', and 'false' otherwise"
   ]
  },
  {
   "cell_type": "code",
   "execution_count": 36,
   "metadata": {},
   "outputs": [
    {
     "data": {
      "text/plain": [
       "0"
      ]
     },
     "execution_count": 36,
     "metadata": {},
     "output_type": "execute_result"
    }
   ],
   "source": [
    "smoker_verifier = userprofile.loc[:, ['drink_level', 'religion']]\n",
    "smoker = smoker_verifier.apply(\n",
    "    lambda x: 'true' if (x.religion == 'Catholic' or x.religion == 'none') \n",
    "                        and (x.drink_level == 'casual drinker' or x.drink_level == 'social drinker')\n",
    "                     else 'false', \n",
    "    axis=1)\n",
    "# Fill the missing values in smoker\n",
    "userprofile.fillna({'smoker': smoker}, inplace=True)\n",
    "userprofile.smoker.isnull().sum(0)"
   ]
  },
  {
   "cell_type": "markdown",
   "metadata": {},
   "source": [
    "Next, we look for the relation between `marital_status` and `birth_year`"
   ]
  },
  {
   "cell_type": "code",
   "execution_count": 37,
   "metadata": {},
   "outputs": [
    {
     "data": {
      "text/html": [
       "<div>\n",
       "<style scoped>\n",
       "    .dataframe tbody tr th:only-of-type {\n",
       "        vertical-align: middle;\n",
       "    }\n",
       "\n",
       "    .dataframe tbody tr th {\n",
       "        vertical-align: top;\n",
       "    }\n",
       "\n",
       "    .dataframe thead tr th {\n",
       "        text-align: left;\n",
       "    }\n",
       "\n",
       "    .dataframe thead tr:last-of-type th {\n",
       "        text-align: right;\n",
       "    }\n",
       "</style>\n",
       "<table border=\"1\" class=\"dataframe\">\n",
       "  <thead>\n",
       "    <tr>\n",
       "      <th></th>\n",
       "      <th>min</th>\n",
       "      <th>max</th>\n",
       "      <th>mean</th>\n",
       "      <th>len</th>\n",
       "    </tr>\n",
       "    <tr>\n",
       "      <th></th>\n",
       "      <th>birth_year</th>\n",
       "      <th>birth_year</th>\n",
       "      <th>birth_year</th>\n",
       "      <th>birth_year</th>\n",
       "    </tr>\n",
       "    <tr>\n",
       "      <th>marital_status</th>\n",
       "      <th></th>\n",
       "      <th></th>\n",
       "      <th></th>\n",
       "      <th></th>\n",
       "    </tr>\n",
       "  </thead>\n",
       "  <tbody>\n",
       "    <tr>\n",
       "      <th>married</th>\n",
       "      <td>1952</td>\n",
       "      <td>1992</td>\n",
       "      <td>1982.400000</td>\n",
       "      <td>10</td>\n",
       "    </tr>\n",
       "    <tr>\n",
       "      <th>single</th>\n",
       "      <td>1930</td>\n",
       "      <td>1994</td>\n",
       "      <td>1985.770492</td>\n",
       "      <td>122</td>\n",
       "    </tr>\n",
       "    <tr>\n",
       "      <th>widow</th>\n",
       "      <td>1982</td>\n",
       "      <td>1989</td>\n",
       "      <td>1985.500000</td>\n",
       "      <td>2</td>\n",
       "    </tr>\n",
       "  </tbody>\n",
       "</table>\n",
       "</div>"
      ],
      "text/plain": [
       "                      min        max         mean        len\n",
       "               birth_year birth_year   birth_year birth_year\n",
       "marital_status                                              \n",
       "married              1952       1992  1982.400000         10\n",
       "single               1930       1994  1985.770492        122\n",
       "widow                1982       1989  1985.500000          2"
      ]
     },
     "execution_count": 37,
     "metadata": {},
     "output_type": "execute_result"
    }
   ],
   "source": [
    "bm = userprofile.dropna(subset=['marital_status']).loc[:, ['birth_year', 'marital_status']]\n",
    "impute_bm = bm.pivot_table(values=['birth_year'], index=['marital_status'], aggfunc=[min, max, np.mean, len])\n",
    "impute_bm"
   ]
  },
  {
   "cell_type": "markdown",
   "metadata": {},
   "source": [
    "Looks like people who was born before 1982 is likely married, and single otherwise. There're just a few widow so we don't take it into account"
   ]
  },
  {
   "cell_type": "code",
   "execution_count": 38,
   "metadata": {},
   "outputs": [
    {
     "data": {
      "text/plain": [
       "0"
      ]
     },
     "execution_count": 38,
     "metadata": {},
     "output_type": "execute_result"
    }
   ],
   "source": [
    "marital_status_verifier = userprofile.loc[:, ['birth_year']]\n",
    "marital_status = marital_status_verifier.apply(lambda x: 'married' if x.birth_year <= 1982 else 'single', axis=1)\n",
    "# Fill the missing values in marital_status\n",
    "userprofile.fillna({'marital_status': marital_status}, inplace=True)\n",
    "userprofile.marital_status.isnull().sum(0)"
   ]
  },
  {
   "cell_type": "markdown",
   "metadata": {},
   "source": [
    "Next, we find the relation between `hijos` and `marital_status`"
   ]
  },
  {
   "cell_type": "code",
   "execution_count": 39,
   "metadata": {},
   "outputs": [
    {
     "data": {
      "text/plain": [
       "independent    113\n",
       "kids            11\n",
       "dependent        3\n",
       "Name: hijos, dtype: int64"
      ]
     },
     "execution_count": 39,
     "metadata": {},
     "output_type": "execute_result"
    }
   ],
   "source": [
    "# Check frequencies in hijos\n",
    "hm = userprofile.dropna(subset=['hijos']).loc[:, ['hijos', 'marital_status']]\n",
    "hm.hijos.value_counts()"
   ]
  },
  {
   "cell_type": "code",
   "execution_count": 40,
   "metadata": {},
   "outputs": [
    {
     "data": {
      "text/html": [
       "<div>\n",
       "<style scoped>\n",
       "    .dataframe tbody tr th:only-of-type {\n",
       "        vertical-align: middle;\n",
       "    }\n",
       "\n",
       "    .dataframe tbody tr th {\n",
       "        vertical-align: top;\n",
       "    }\n",
       "\n",
       "    .dataframe thead th {\n",
       "        text-align: right;\n",
       "    }\n",
       "</style>\n",
       "<table border=\"1\" class=\"dataframe\">\n",
       "  <thead>\n",
       "    <tr style=\"text-align: right;\">\n",
       "      <th></th>\n",
       "      <th>hijos</th>\n",
       "    </tr>\n",
       "    <tr>\n",
       "      <th>marital_status</th>\n",
       "      <th></th>\n",
       "    </tr>\n",
       "  </thead>\n",
       "  <tbody>\n",
       "    <tr>\n",
       "      <th>married</th>\n",
       "      <td>1.600000</td>\n",
       "    </tr>\n",
       "    <tr>\n",
       "      <th>single</th>\n",
       "      <td>1.008696</td>\n",
       "    </tr>\n",
       "    <tr>\n",
       "      <th>widow</th>\n",
       "      <td>1.500000</td>\n",
       "    </tr>\n",
       "  </tbody>\n",
       "</table>\n",
       "</div>"
      ],
      "text/plain": [
       "                   hijos\n",
       "marital_status          \n",
       "married         1.600000\n",
       "single          1.008696\n",
       "widow           1.500000"
      ]
     },
     "execution_count": 40,
     "metadata": {},
     "output_type": "execute_result"
    }
   ],
   "source": [
    "# Replace the hijos value to be able to calculate the mean\n",
    "hm.hijos.replace({'dependent': 0, 'independent': 1, 'kids': 2}, inplace=True)\n",
    "hm.groupby(['marital_status']).mean()"
   ]
  },
  {
   "cell_type": "markdown",
   "metadata": {},
   "source": [
    "We can observe that, if user's married then user hijos is more likely 'kids'; if user is single then user hijos is likely 'independent'; for widow users we can set their hijos to the most common value - 'independent'"
   ]
  },
  {
   "cell_type": "code",
   "execution_count": 41,
   "metadata": {},
   "outputs": [
    {
     "data": {
      "text/plain": [
       "0"
      ]
     },
     "execution_count": 41,
     "metadata": {},
     "output_type": "execute_result"
    }
   ],
   "source": [
    "hijos_verifier = userprofile.loc[:, ['marital_status']]\n",
    "hijos = hijos_verifier.apply(lambda x: 'kids' if x.marital_status == 'married' else 'independent', axis=1)\n",
    "# Fill the missing values in marital_status\n",
    "userprofile.fillna({'hijos': hijos}, inplace=True)\n",
    "userprofile.hijos.isnull().sum(0)"
   ]
  },
  {
   "cell_type": "markdown",
   "metadata": {},
   "source": [
    "We don't directly see any other columns may have relevance to `activity`, so we can fill missing values with the most frequent value in `activity`"
   ]
  },
  {
   "cell_type": "code",
   "execution_count": 42,
   "metadata": {},
   "outputs": [
    {
     "data": {
      "text/plain": [
       "0"
      ]
     },
     "execution_count": 42,
     "metadata": {},
     "output_type": "execute_result"
    }
   ],
   "source": [
    "mode_activity = userprofile.activity.mode()[0]\n",
    "userprofile.fillna({'activity': mode_activity}, inplace=True)\n",
    "userprofile.activity.isnull().sum()"
   ]
  },
  {
   "cell_type": "markdown",
   "metadata": {},
   "source": [
    "Check the correlation between `marital_status` and `dress_preference`"
   ]
  },
  {
   "cell_type": "code",
   "execution_count": 43,
   "metadata": {},
   "outputs": [
    {
     "data": {
      "text/plain": [
       "0.073900145277133"
      ]
     },
     "execution_count": 43,
     "metadata": {},
     "output_type": "execute_result"
    }
   ],
   "source": [
    "dm = userprofile.dropna(subset=['dress_preference']).loc[:, ['dress_preference', 'marital_status']]\n",
    "a = dm.dress_preference.replace({'no preference': 0, 'formal': 1, 'informal': 2, 'elegant': 3})\n",
    "b = dm.marital_status.replace({'single': 0, 'married': 1, 'widow': 2})\n",
    "a.corr(b)"
   ]
  },
  {
   "cell_type": "markdown",
   "metadata": {},
   "source": [
    "We don't directly see any other columns may have relevance to `dress_preference`, so we can fill missing values with the most frequent value in `dress_preference`"
   ]
  },
  {
   "cell_type": "code",
   "execution_count": 44,
   "metadata": {},
   "outputs": [
    {
     "data": {
      "text/plain": [
       "0"
      ]
     },
     "execution_count": 44,
     "metadata": {},
     "output_type": "execute_result"
    }
   ],
   "source": [
    "mode_dress = userprofile.dress_preference.mode()[0]\n",
    "userprofile.fillna({'dress_preference': mode_dress}, inplace=True)\n",
    "userprofile.dress_preference.isnull().sum()"
   ]
  },
  {
   "cell_type": "markdown",
   "metadata": {},
   "source": [
    "Check the correlation between `marital_status` and `ambience`"
   ]
  },
  {
   "cell_type": "code",
   "execution_count": 45,
   "metadata": {},
   "outputs": [
    {
     "data": {
      "text/plain": [
       "0.053166529799302066"
      ]
     },
     "execution_count": 45,
     "metadata": {},
     "output_type": "execute_result"
    }
   ],
   "source": [
    "am = userprofile.dropna(subset=['ambience']).loc[:, ['marital_status', 'ambience']]\n",
    "a = am.ambience.replace({'family': 0, 'friends': 1, 'solitary': 2})\n",
    "b = am.marital_status.replace({'single': 0, 'married': 1, 'widow': 2})\n",
    "a.corr(b)"
   ]
  },
  {
   "cell_type": "markdown",
   "metadata": {},
   "source": [
    "We don't directly see any other columns may have relevance to `ambience`, so we can fill missing values with the most frequent value in `ambience`"
   ]
  },
  {
   "cell_type": "code",
   "execution_count": 46,
   "metadata": {},
   "outputs": [
    {
     "data": {
      "text/plain": [
       "0"
      ]
     },
     "execution_count": 46,
     "metadata": {},
     "output_type": "execute_result"
    }
   ],
   "source": [
    "mode_ambience = userprofile.ambience.mode()[0]\n",
    "userprofile.fillna({'ambience': mode_ambience}, inplace=True)\n",
    "userprofile.ambience.isnull().sum()"
   ]
  },
  {
   "cell_type": "markdown",
   "metadata": {},
   "source": [
    "Similarly, we can fill missing values in `budget` and `transport` with the most frequent value"
   ]
  },
  {
   "cell_type": "code",
   "execution_count": 47,
   "metadata": {},
   "outputs": [
    {
     "data": {
      "text/plain": [
       "userID              0\n",
       "latitude            0\n",
       "longitude           0\n",
       "smoker              0\n",
       "drink_level         0\n",
       "dress_preference    0\n",
       "ambience            0\n",
       "transport           0\n",
       "marital_status      0\n",
       "hijos               0\n",
       "birth_year          0\n",
       "interest            0\n",
       "personality         0\n",
       "religion            0\n",
       "activity            0\n",
       "color               0\n",
       "weight              0\n",
       "budget              0\n",
       "height              0\n",
       "dtype: int64"
      ]
     },
     "execution_count": 47,
     "metadata": {},
     "output_type": "execute_result"
    }
   ],
   "source": [
    "userprofile.fillna({'budget': userprofile.budget.mode()[0]}, inplace=True)\n",
    "userprofile.fillna({'transport': userprofile.transport.mode()[0]}, inplace=True)\n",
    "# Checking the missing values in userprofile\n",
    "userprofile.isnull().sum()"
   ]
  },
  {
   "cell_type": "code",
   "execution_count": 48,
   "metadata": {},
   "outputs": [
    {
     "data": {
      "text/html": [
       "<div>\n",
       "<style scoped>\n",
       "    .dataframe tbody tr th:only-of-type {\n",
       "        vertical-align: middle;\n",
       "    }\n",
       "\n",
       "    .dataframe tbody tr th {\n",
       "        vertical-align: top;\n",
       "    }\n",
       "\n",
       "    .dataframe thead th {\n",
       "        text-align: right;\n",
       "    }\n",
       "</style>\n",
       "<table border=\"1\" class=\"dataframe\">\n",
       "  <thead>\n",
       "    <tr style=\"text-align: right;\">\n",
       "      <th></th>\n",
       "      <th>smoker</th>\n",
       "      <th>drink_level</th>\n",
       "      <th>dress_preference</th>\n",
       "      <th>ambience</th>\n",
       "      <th>transport</th>\n",
       "      <th>marital_status</th>\n",
       "      <th>hijos</th>\n",
       "      <th>interest</th>\n",
       "      <th>personality</th>\n",
       "      <th>religion</th>\n",
       "      <th>activity</th>\n",
       "      <th>color</th>\n",
       "      <th>budget</th>\n",
       "    </tr>\n",
       "  </thead>\n",
       "  <tbody>\n",
       "    <tr>\n",
       "      <th>count</th>\n",
       "      <td>138</td>\n",
       "      <td>138</td>\n",
       "      <td>138</td>\n",
       "      <td>138</td>\n",
       "      <td>138</td>\n",
       "      <td>138</td>\n",
       "      <td>138</td>\n",
       "      <td>138</td>\n",
       "      <td>138</td>\n",
       "      <td>138</td>\n",
       "      <td>138</td>\n",
       "      <td>138</td>\n",
       "      <td>138</td>\n",
       "    </tr>\n",
       "    <tr>\n",
       "      <th>unique</th>\n",
       "      <td>2</td>\n",
       "      <td>3</td>\n",
       "      <td>4</td>\n",
       "      <td>3</td>\n",
       "      <td>3</td>\n",
       "      <td>3</td>\n",
       "      <td>3</td>\n",
       "      <td>5</td>\n",
       "      <td>4</td>\n",
       "      <td>5</td>\n",
       "      <td>4</td>\n",
       "      <td>8</td>\n",
       "      <td>3</td>\n",
       "    </tr>\n",
       "    <tr>\n",
       "      <th>top</th>\n",
       "      <td>false</td>\n",
       "      <td>abstemious</td>\n",
       "      <td>no preference</td>\n",
       "      <td>family</td>\n",
       "      <td>public</td>\n",
       "      <td>single</td>\n",
       "      <td>independent</td>\n",
       "      <td>variety</td>\n",
       "      <td>hard-worker</td>\n",
       "      <td>Catholic</td>\n",
       "      <td>student</td>\n",
       "      <td>blue</td>\n",
       "      <td>medium</td>\n",
       "    </tr>\n",
       "    <tr>\n",
       "      <th>freq</th>\n",
       "      <td>112</td>\n",
       "      <td>51</td>\n",
       "      <td>58</td>\n",
       "      <td>76</td>\n",
       "      <td>89</td>\n",
       "      <td>123</td>\n",
       "      <td>121</td>\n",
       "      <td>50</td>\n",
       "      <td>61</td>\n",
       "      <td>99</td>\n",
       "      <td>120</td>\n",
       "      <td>45</td>\n",
       "      <td>98</td>\n",
       "    </tr>\n",
       "  </tbody>\n",
       "</table>\n",
       "</div>"
      ],
      "text/plain": [
       "       smoker drink_level dress_preference ambience transport marital_status  \\\n",
       "count     138         138              138      138       138            138   \n",
       "unique      2           3                4        3         3              3   \n",
       "top     false  abstemious    no preference   family    public         single   \n",
       "freq      112          51               58       76        89            123   \n",
       "\n",
       "              hijos interest  personality  religion activity color  budget  \n",
       "count           138      138          138       138      138   138     138  \n",
       "unique            3        5            4         5        4     8       3  \n",
       "top     independent  variety  hard-worker  Catholic  student  blue  medium  \n",
       "freq            121       50           61        99      120    45      98  "
      ]
     },
     "execution_count": 48,
     "metadata": {},
     "output_type": "execute_result"
    }
   ],
   "source": [
    "# Describe userprofile\n",
    "userprofile[['smoker', 'drink_level', 'dress_preference', 'ambience', 'transport', 'marital_status', 'hijos',\n",
    "       'interest', 'personality', 'religion', 'activity', 'color','budget']].describe()"
   ]
  },
  {
   "cell_type": "code",
   "execution_count": 49,
   "metadata": {},
   "outputs": [
    {
     "data": {
      "text/plain": [
       "0"
      ]
     },
     "execution_count": 49,
     "metadata": {},
     "output_type": "execute_result"
    }
   ],
   "source": [
    "# Checking duplicate values\n",
    "userprofile.userID.duplicated().sum()"
   ]
  },
  {
   "cell_type": "markdown",
   "metadata": {},
   "source": [
    "- **rating_final.csv**"
   ]
  },
  {
   "cell_type": "code",
   "execution_count": 50,
   "metadata": {},
   "outputs": [
    {
     "data": {
      "text/plain": [
       "userID            0\n",
       "placeID           0\n",
       "rating            0\n",
       "food_rating       0\n",
       "service_rating    0\n",
       "dtype: int64"
      ]
     },
     "execution_count": 50,
     "metadata": {},
     "output_type": "execute_result"
    }
   ],
   "source": [
    "# Checking for null value\n",
    "rating_final.isnull().sum(0)"
   ]
  },
  {
   "cell_type": "code",
   "execution_count": 73,
   "metadata": {},
   "outputs": [
    {
     "data": {
      "text/plain": [
       "0"
      ]
     },
     "execution_count": 73,
     "metadata": {},
     "output_type": "execute_result"
    }
   ],
   "source": [
    "# Checking duplicate values\n",
    "rating_final.loc[:, ['userID', 'placeID']].duplicated().sum()"
   ]
  },
  {
   "cell_type": "markdown",
   "metadata": {},
   "source": [
    "**2.1.3. What are the names of different restaurants in the state of ‘tamaulipas’?**"
   ]
  },
  {
   "cell_type": "code",
   "execution_count": 52,
   "metadata": {},
   "outputs": [
    {
     "data": {
      "text/plain": [
       "array(['Gorditas Dona Tota', 'churchs', 'tortas hawai',\n",
       "       'tacos de la estacion', 'Carnitas Mata  Calle 16 de Septiembre',\n",
       "       'TACOS CORRECAMINOS', 'la perica hamburguesa', 'TACOS EL GUERO',\n",
       "       'tacos de barbacoa enfrente del Tec',\n",
       "       'Carreton de Flautas y Migadas', 'puesto de gorditas',\n",
       "       'Gorditas Dona Tota', 'tacos abi',\n",
       "       'little pizza Emilio Portes Gil', 'Little Cesarz', 'carnitas_mata',\n",
       "       'palomo tec', 'carnitas mata calle Emilio Portes Gil', 'vips',\n",
       "       'Taqueria EL amigo ', 'Hamburguesas La perica',\n",
       "       'Pollo_Frito_Buenos_Aires'], dtype=object)"
      ]
     },
     "execution_count": 52,
     "metadata": {},
     "output_type": "execute_result"
    }
   ],
   "source": [
    "geoplaces2[geoplaces2.state == 'Tamaulipas']['name'].values"
   ]
  },
  {
   "cell_type": "markdown",
   "metadata": {},
   "source": [
    "**2.1.4. How many different customers used public transport for going to the restaurants?**"
   ]
  },
  {
   "cell_type": "code",
   "execution_count": 53,
   "metadata": {},
   "outputs": [
    {
     "data": {
      "text/plain": [
       "89"
      ]
     },
     "execution_count": 53,
     "metadata": {},
     "output_type": "execute_result"
    }
   ],
   "source": [
    "len(userprofile[userprofile.transport == 'public'])"
   ]
  },
  {
   "cell_type": "markdown",
   "metadata": {},
   "source": [
    "**2.1.5. What is the least popular payment method among customers?**"
   ]
  },
  {
   "cell_type": "code",
   "execution_count": 54,
   "metadata": {},
   "outputs": [
    {
     "data": {
      "text/plain": [
       "cash                   131\n",
       "bank_debit_cards        22\n",
       "VISA                    17\n",
       "MasterCard-Eurocard      4\n",
       "American_Express         3\n",
       "Name: Upayment, dtype: int64"
      ]
     },
     "execution_count": 54,
     "metadata": {},
     "output_type": "execute_result"
    }
   ],
   "source": [
    "payments = userpayment.Upayment.value_counts()\n",
    "payments"
   ]
  },
  {
   "cell_type": "code",
   "execution_count": 55,
   "metadata": {},
   "outputs": [
    {
     "data": {
      "text/plain": [
       "'American_Express'"
      ]
     },
     "execution_count": 55,
     "metadata": {},
     "output_type": "execute_result"
    }
   ],
   "source": [
    "# Get the last index, which is the result of the query\n",
    "payments.index[-1]"
   ]
  },
  {
   "cell_type": "markdown",
   "metadata": {},
   "source": [
    "**2.1.6. How many (different) restaurants work until 19:00 in the evenings?**"
   ]
  },
  {
   "cell_type": "code",
   "execution_count": 56,
   "metadata": {},
   "outputs": [
    {
     "data": {
      "text/plain": [
       "28"
      ]
     },
     "execution_count": 56,
     "metadata": {},
     "output_type": "execute_result"
    }
   ],
   "source": [
    "len(chefmozhours4[chefmozhours4.hours.str.contains('-19:00;')]['placeID'].unique())"
   ]
  },
  {
   "cell_type": "markdown",
   "metadata": {},
   "source": [
    "**2.1.7. Which type of food (rcuisine) is served most among the restaurants?**"
   ]
  },
  {
   "cell_type": "code",
   "execution_count": 57,
   "metadata": {},
   "outputs": [
    {
     "data": {
      "text/plain": [
       "'Mexican'"
      ]
     },
     "execution_count": 57,
     "metadata": {},
     "output_type": "execute_result"
    }
   ],
   "source": [
    "chefmozcuisine.Rcuisine.mode()[0]"
   ]
  },
  {
   "cell_type": "markdown",
   "metadata": {},
   "source": [
    "**2.1.8. What is the percentage of customers who were born between 1980 and 1990?**"
   ]
  },
  {
   "cell_type": "code",
   "execution_count": 58,
   "metadata": {},
   "outputs": [
    {
     "name": "stdout",
     "output_type": "stream",
     "text": [
      "63%\n"
     ]
    }
   ],
   "source": [
    "customers = userprofile[(userprofile.birth_year >= 1980) & (userprofile.birth_year <= 1990)]\n",
    "print(\"{0}%\".format(int(len(customers)*100/len(userprofile))))"
   ]
  },
  {
   "cell_type": "markdown",
   "metadata": {},
   "source": [
    "**2.1.9. What is the percentage of students with a medium budget preferring walking to the restaurants?**"
   ]
  },
  {
   "cell_type": "code",
   "execution_count": 59,
   "metadata": {},
   "outputs": [
    {
     "name": "stdout",
     "output_type": "stream",
     "text": [
      "5%\n"
     ]
    }
   ],
   "source": [
    "students = userprofile[(userprofile.activity == 'student') & \n",
    "                       (userprofile.budget == 'medium') & \n",
    "                       (userprofile.transport == 'on foot')]\n",
    "print(\"{0}%\".format(int(len(students)*100/len(userprofile))))"
   ]
  },
  {
   "cell_type": "markdown",
   "metadata": {},
   "source": [
    "## Part 2"
   ]
  },
  {
   "cell_type": "markdown",
   "metadata": {},
   "source": [
    "**2.2.1. What are the names of restaurants that do not have public parking lots?**"
   ]
  },
  {
   "cell_type": "code",
   "execution_count": 60,
   "metadata": {},
   "outputs": [
    {
     "data": {
      "text/html": [
       "<div>\n",
       "<style scoped>\n",
       "    .dataframe tbody tr th:only-of-type {\n",
       "        vertical-align: middle;\n",
       "    }\n",
       "\n",
       "    .dataframe tbody tr th {\n",
       "        vertical-align: top;\n",
       "    }\n",
       "\n",
       "    .dataframe thead th {\n",
       "        text-align: right;\n",
       "    }\n",
       "</style>\n",
       "<table border=\"1\" class=\"dataframe\">\n",
       "  <thead>\n",
       "    <tr style=\"text-align: right;\">\n",
       "      <th></th>\n",
       "      <th>placeID</th>\n",
       "      <th>name</th>\n",
       "      <th>parking_lot</th>\n",
       "    </tr>\n",
       "  </thead>\n",
       "  <tbody>\n",
       "    <tr>\n",
       "      <th>108</th>\n",
       "      <td>132706</td>\n",
       "      <td>Gorditas Dona Tota</td>\n",
       "      <td>public</td>\n",
       "    </tr>\n",
       "    <tr>\n",
       "      <th>116</th>\n",
       "      <td>132594</td>\n",
       "      <td>tacos de barbacoa enfrente del Tec</td>\n",
       "      <td>public</td>\n",
       "    </tr>\n",
       "    <tr>\n",
       "      <th>99</th>\n",
       "      <td>135058</td>\n",
       "      <td>Restaurante Tiberius</td>\n",
       "      <td>public</td>\n",
       "    </tr>\n",
       "    <tr>\n",
       "      <th>74</th>\n",
       "      <td>135085</td>\n",
       "      <td>Tortas Locas Hipocampo</td>\n",
       "      <td>public</td>\n",
       "    </tr>\n",
       "    <tr>\n",
       "      <th>118</th>\n",
       "      <td>132560</td>\n",
       "      <td>puesto de gorditas</td>\n",
       "      <td>public</td>\n",
       "    </tr>\n",
       "  </tbody>\n",
       "</table>\n",
       "</div>"
      ],
      "text/plain": [
       "     placeID                                name parking_lot\n",
       "108   132706                  Gorditas Dona Tota      public\n",
       "116   132594  tacos de barbacoa enfrente del Tec      public\n",
       "99    135058                Restaurante Tiberius      public\n",
       "74    135085              Tortas Locas Hipocampo      public\n",
       "118   132560                  puesto de gorditas      public"
      ]
     },
     "execution_count": 60,
     "metadata": {},
     "output_type": "execute_result"
    }
   ],
   "source": [
    "# Merge geoplaces2 and chefmozparking on placeID\n",
    "restaurants = pd.merge(geoplaces2.loc[:, ['placeID', 'name']], chefmozparking, on='placeID')\n",
    "# Find the restaurants that have public parking lots\n",
    "restaurants2 = restaurants[restaurants.parking_lot == 'public']\n",
    "restaurants2.sample(5)"
   ]
  },
  {
   "cell_type": "markdown",
   "metadata": {},
   "source": [
    "The result of this query is the names of restaurants that have the placeID not in the restaurants2.placeID. With this way, we don't miss the restaurants that have public parking lots and also have other kinds of parking lot (maybe it's possible) from the result"
   ]
  },
  {
   "cell_type": "code",
   "execution_count": 61,
   "metadata": {},
   "outputs": [
    {
     "data": {
      "text/plain": [
       "array(['El Oceano Dorado', 'Arrachela Grill', 'El cotorreo',\n",
       "       'Restaurant los Pinos', 'Restaurant Bar Coty y Pablo',\n",
       "       'Restaurant Familiar El Chino', 'Mikasa', 'Los Vikingos',\n",
       "       'Kiku Cuernavaca', 'Log Yin', 'Giovannis', 'Paniroles',\n",
       "       'McDonalds Centro', 'Sanborns Casa Piedra', 'Mariscos Tia Licha',\n",
       "       'Restaurant Las Mananitas', 'Chilis Cuernavaca',\n",
       "       'Restaurant Teely', 'Rincon del Bife', 'Vips',\n",
       "       'Restaurant and Bar and Clothesline Carlos N Charlies',\n",
       "       'Cenaduria El RincÃ³n de Tlaquepaque', 'Restaurante la Cantina',\n",
       "       'Hamburguesas Valle Dorado', 'Restaurante de Mariscos la Langosta',\n",
       "       'sirloin stockade', 'Restaurant los Compadres', 'Potzocalli',\n",
       "       'KFC', 'Sirlone', 'Mariscos El Pescador', 'dairy queen',\n",
       "       'Abondance Restaurante Bar', 'Michiko Restaurant Japones',\n",
       "       'Restaurante y Pescaderia Tampico', 'Chaires', 'Dominos Pizza',\n",
       "       'Restaurante El Reyecito', 'Mcdonalds Parque Tangamanga',\n",
       "       'Restaurant El Muladar de Calzada', 'Cafe Chaires',\n",
       "       'Restaurant Wu Zhuo Yi', 'Restaurante Bar Fu-hao',\n",
       "       'el lechon potosino ', 'Tortas y hamburguesas el gordo',\n",
       "       'don burguers', 'tacos los volcanes', 'los Toneles',\n",
       "       'Restaurant Bar Hacienda los Martinez', 'El Mundo de la Pasta',\n",
       "       'Restaurant de Mariscos de Picon',\n",
       "       'El Herradero Restaurante and Bar', 'La Virreina',\n",
       "       'Restaurant Orizatlan', 'Restaurante Bar El Gallinero',\n",
       "       'puesto de tacos', 'emilianos', 'Cabana Huasteca',\n",
       "       'Preambulo Wifi Zone Cafe', 'Carls Jr', 'la Cantina',\n",
       "       'la Cochinita Pibil Restaurante Yucateco', 'Sushi Itto',\n",
       "       'El Rincon de San Francisco', 'El angel Restaurante',\n",
       "       'El Rincón de San Francisco', 'shi ro ie', 'rockabilly ',\n",
       "       'crudalia', 'La Posada del Virrey', 'Rincon Huasteco',\n",
       "       'Restaurante Casa de las Flores', 'La Cantina Restaurante',\n",
       "       'Luna Cafe', 'cafe punta del cielo', 'Restaurante la Gran Via',\n",
       "       'Restaurante Versalles', 'Unicols Pizza', 'la Estrella de Dimas',\n",
       "       'Restaurante 75', 'el pueblito', 'Restaurante El Cielo Potosino',\n",
       "       'VIPS', 'Restaurante El Chivero S.A. de C.V.',\n",
       "       'Restaurant la Chalita', 'Koye Sushi', 'Restaurante Alhondiga',\n",
       "       'Restaurante Marisco Sam', 'Restaurant Oriental Express',\n",
       "       'la parroquia', 'El Club', 'Restaurante Guerra',\n",
       "       'Restaurante la Estrella de Dima',\n",
       "       'La Fontana Pizza Restaurante and Cafe',\n",
       "       'Restaurante Pueblo Bonito', 'pizza clasica', 'cafe ambar',\n",
       "       'churchs', 'tacos de la estacion',\n",
       "       'Carnitas Mata  Calle 16 de Septiembre', 'TACOS CORRECAMINOS',\n",
       "       'la perica hamburguesa', 'TACOS EL GUERO',\n",
       "       'Carreton de Flautas y Migadas', 'Gorditas Dona Tota', 'tacos abi',\n",
       "       'little pizza Emilio Portes Gil', 'Little Cesarz', 'carnitas_mata',\n",
       "       'palomo tec', 'carnitas mata calle Emilio Portes Gil', 'vips',\n",
       "       'Taqueria EL amigo ', 'Pollo_Frito_Buenos_Aires'], dtype=object)"
      ]
     },
     "execution_count": 61,
     "metadata": {},
     "output_type": "execute_result"
    }
   ],
   "source": [
    "restaurants[~restaurants.placeID.isin(restaurants2.placeID)]['name'].values"
   ]
  },
  {
   "cell_type": "markdown",
   "metadata": {},
   "source": [
    "**2.2.2. What are the addresses of restaurants which only accept ‘cash’?**"
   ]
  },
  {
   "cell_type": "code",
   "execution_count": 62,
   "metadata": {},
   "outputs": [
    {
     "data": {
      "text/html": [
       "<div>\n",
       "<style scoped>\n",
       "    .dataframe tbody tr th:only-of-type {\n",
       "        vertical-align: middle;\n",
       "    }\n",
       "\n",
       "    .dataframe tbody tr th {\n",
       "        vertical-align: top;\n",
       "    }\n",
       "\n",
       "    .dataframe thead th {\n",
       "        text-align: right;\n",
       "    }\n",
       "</style>\n",
       "<table border=\"1\" class=\"dataframe\">\n",
       "  <thead>\n",
       "    <tr style=\"text-align: right;\">\n",
       "      <th></th>\n",
       "      <th>placeID</th>\n",
       "      <th>address</th>\n",
       "      <th>Rpayment</th>\n",
       "    </tr>\n",
       "  </thead>\n",
       "  <tbody>\n",
       "    <tr>\n",
       "      <th>0</th>\n",
       "      <td>135018</td>\n",
       "      <td>Libramiento Burgos Colonia Las Animas</td>\n",
       "      <td>cash</td>\n",
       "    </tr>\n",
       "    <tr>\n",
       "      <th>1</th>\n",
       "      <td>135018</td>\n",
       "      <td>Libramiento Burgos Colonia Las Animas</td>\n",
       "      <td>VISA</td>\n",
       "    </tr>\n",
       "    <tr>\n",
       "      <th>2</th>\n",
       "      <td>135018</td>\n",
       "      <td>Libramiento Burgos Colonia Las Animas</td>\n",
       "      <td>MasterCard-Eurocard</td>\n",
       "    </tr>\n",
       "    <tr>\n",
       "      <th>3</th>\n",
       "      <td>135018</td>\n",
       "      <td>Libramiento Burgos Colonia Las Animas</td>\n",
       "      <td>bank_debit_cards</td>\n",
       "    </tr>\n",
       "    <tr>\n",
       "      <th>4</th>\n",
       "      <td>135016</td>\n",
       "      <td>69 Tres De Mayo</td>\n",
       "      <td>cash</td>\n",
       "    </tr>\n",
       "  </tbody>\n",
       "</table>\n",
       "</div>"
      ],
      "text/plain": [
       "   placeID                                address             Rpayment\n",
       "0   135018  Libramiento Burgos Colonia Las Animas                 cash\n",
       "1   135018  Libramiento Burgos Colonia Las Animas                 VISA\n",
       "2   135018  Libramiento Burgos Colonia Las Animas  MasterCard-Eurocard\n",
       "3   135018  Libramiento Burgos Colonia Las Animas     bank_debit_cards\n",
       "4   135016                        69 Tres De Mayo                 cash"
      ]
     },
     "execution_count": 62,
     "metadata": {},
     "output_type": "execute_result"
    }
   ],
   "source": [
    "# Merge geoplaces2 and chefmozaccepts on placeID\n",
    "restaurants = pd.merge(geoplaces2.loc[:, ['placeID', 'address']], chefmozaccepts, on='placeID')\n",
    "restaurants.head()"
   ]
  },
  {
   "cell_type": "code",
   "execution_count": 63,
   "metadata": {},
   "outputs": [
    {
     "data": {
      "text/plain": [
       "array(['69 Tres De Mayo', 'Emiliano Zapata Col. Tres de Mayo',\n",
       "       'Federal Mexico - Acapulco 10 3 de Mayo',\n",
       "       'Interior Internado Palmira SN',\n",
       "       'Himno nacional esq. Blvd. Juarez', '36 Sur Civac',\n",
       "       '40 Norte Civac 1RA. Seccion', '40 Norte Civac 1RA. Seccion',\n",
       "       'Lomas del Mirador',\n",
       "       'Rio Mayo Colonia Vista Hermosa Esq. Rio Balsas',\n",
       "       'Rio Mayo 17 Vista Hermosa', 'av. seminario', 'Av. Coral',\n",
       "       'Cordillera de Los Alpes 675 Loma Verde', 'Carretera Central Sn',\n",
       "       'Himno Nacional 2104 Tangamanga', 'Industrias 908 Valle Dorado',\n",
       "       'Ricardo B. Anaya', 'Ricardo B. Anaya',\n",
       "       'De Guadalupe 460 San Miguelito', 'Himno Nacional 100 Avenida',\n",
       "       'circuito oriente esq. carretera 57', 'Ricardo B. Anaya',\n",
       "       'r.b. anaya esq. florencia', 'Santos Degollado 745 los Alamitos',\n",
       "       'Miguel Barragan 46 Centro',\n",
       "       'esquina santos degollado y leon guzman', 'Cuauhtemoc 455',\n",
       "       'Anahuac 805', 'agustin de iturbide', 'agustin de iturbide',\n",
       "       'Venustiano Carranza 719 Centro', 'Francisco I. Madero 215',\n",
       "       'Francisco I. Madero 215', 'Francisco I. Madero 145 Centro',\n",
       "       'Plaza del Carmen', 'Villa de Pozos 192 Villa de Pozos',\n",
       "       'Villa de Pozos 4497 Villa de Pozos', 'Av. de los Pintores',\n",
       "       'Julian de Los Reyes 400 Centro', 'NICOLAS ZAPATA 300',\n",
       "       'Guajardo Sn San Luis Potosi Centro', 'sevilla y olmedo 715 a',\n",
       "       'Alhondiga 62 Centro', 'Ignacio Allende 785 Centro',\n",
       "       'Tangamanga 7 Tangamanga',\n",
       "       'Av. Saan Luis enttre moctezuma y salinas',\n",
       "       '524 Soledad de Graciano Sanchez',\n",
       "       'Zaragoza entre Francisco Zarco y Lopez Velarde',\n",
       "       'Zaragoza entre Francisco Zarco y Lopez Velarde',\n",
       "       '16 de Septiembre', '16 de Septiembre', 'frente al tecnologico',\n",
       "       'frente al tecnologico', 'calle emilio portes gil',\n",
       "       'lic. Emilio portes gil', 'Calle Mezquite Fracc Framboyanes',\n",
       "       'cd. mier', 'tampico'], dtype=object)"
      ]
     },
     "execution_count": 63,
     "metadata": {},
     "output_type": "execute_result"
    }
   ],
   "source": [
    "# Drop all restaurants that have multiple payment methods, so we only have \n",
    "# restaurants that only accept one kind of payment remain\n",
    "restaurants.drop_duplicates(subset=['placeID'], keep=False, inplace=True)\n",
    "# Filter by Rpayment=cash\n",
    "restaurants[restaurants.Rpayment == 'cash']['address'].values"
   ]
  },
  {
   "cell_type": "markdown",
   "metadata": {},
   "source": [
    "**2.2.3. Name the cities where the restaurants cook and serve ‘fast food’?**"
   ]
  },
  {
   "cell_type": "code",
   "execution_count": 64,
   "metadata": {},
   "outputs": [
    {
     "data": {
      "text/plain": [
       "array(['Cuernavaca', 'San Luis Potosi', 'Soledad', 'Ciudad Victoria'],\n",
       "      dtype=object)"
      ]
     },
     "execution_count": 64,
     "metadata": {},
     "output_type": "execute_result"
    }
   ],
   "source": [
    "# Merge geoplaces2 and chefmozaccepts on placeID\n",
    "restaurants = pd.merge(geoplaces2.loc[:, ['placeID', 'city']], chefmozcuisine, on='placeID')\n",
    "# Filter by Rcuisine=Fast_Food before getting the unique value of city\n",
    "restaurants[restaurants.Rcuisine == 'Fast_Food']['city'].unique()"
   ]
  },
  {
   "cell_type": "markdown",
   "metadata": {},
   "source": [
    "**2.2.4. What is the most common ‘rating’ among customers with family?**"
   ]
  },
  {
   "cell_type": "code",
   "execution_count": 75,
   "metadata": {},
   "outputs": [
    {
     "data": {
      "text/plain": [
       "2"
      ]
     },
     "execution_count": 75,
     "metadata": {},
     "output_type": "execute_result"
    }
   ],
   "source": [
    "# Merge userprofile and rating_final on userID\n",
    "customers = pd.merge(userprofile.loc[:, ['userID', 'ambience']], \n",
    "                     rating_final.loc[:, ['userID', 'rating']], on='userID')\n",
    "# Get the most common 'rating'\n",
    "customers[customers.ambience == 'family']['rating'].mode()[0]"
   ]
  },
  {
   "cell_type": "markdown",
   "metadata": {},
   "source": [
    "**2.2.5. What types of food (‘rcuisine’) received the highest rank from people with ‘low’ budget?**"
   ]
  },
  {
   "cell_type": "code",
   "execution_count": 66,
   "metadata": {},
   "outputs": [
    {
     "data": {
      "text/plain": [
       "array(['Bar', 'Mexican', 'International', 'Fast_Food', 'Seafood',\n",
       "       'Cafeteria', 'Chinese', 'Pizzeria', 'Contemporary', 'Bakery',\n",
       "       'Burgers', 'American', 'Game', 'Japanese', 'Bar_Pub_Brewery',\n",
       "       'Vietnamese'], dtype=object)"
      ]
     },
     "execution_count": 66,
     "metadata": {},
     "output_type": "execute_result"
    }
   ],
   "source": [
    "# Merge rating_file and userprofile on userID\n",
    "customers = pd.merge(userprofile.loc[:, ['userID', 'budget']], \n",
    "                     rating_final.loc[:, ['userID', 'placeID', 'food_rating']], on='userID')\n",
    "# Filter customers with 'low' budget\n",
    "customers = customers[customers.budget == 'low']\n",
    "# Merge customers and chefmozcuisine on placeID\n",
    "rating = pd.merge(customers, chefmozcuisine, on='placeID')\n",
    "# Find the types of food received a food_rating=2 (highest) from 'low' budget people\n",
    "rating[rating.food_rating == 2].Rcuisine.unique()"
   ]
  },
  {
   "cell_type": "markdown",
   "metadata": {},
   "source": [
    "**2.2.6. What is the average of ‘service rating’, received from ‘social drinkers’ about restaurants which just served ‘Wine-Beer’?**"
   ]
  },
  {
   "cell_type": "code",
   "execution_count": 67,
   "metadata": {},
   "outputs": [
    {
     "data": {
      "text/plain": [
       "1.3863636363636365"
      ]
     },
     "execution_count": 67,
     "metadata": {},
     "output_type": "execute_result"
    }
   ],
   "source": [
    "# Filter restaurants which just served 'Wine-Beer'\n",
    "restaurants = geoplaces2[geoplaces2.alcohol == 'Wine-Beer']\n",
    "# Filter customers who are 'social drinker'\n",
    "customers = userprofile[userprofile.drink_level == 'social drinker']\n",
    "# Merge restaurants, customers and rating_final\n",
    "rating = pd.merge(restaurants.loc[:, ['placeID', 'alcohol']], \n",
    "                  rating_final.loc[:, ['placeID', 'userID', 'service_rating']], on='placeID')\n",
    "rating = pd.merge(rating, customers.loc[:, ['userID', 'drink_level']], on='userID')\n",
    "# Calculate the average of 'service_rating'\n",
    "rating.service_rating.mean()"
   ]
  },
  {
   "cell_type": "markdown",
   "metadata": {},
   "source": [
    "**2.2.7. How many smokers gave zero ‘service rating’ to the restaurants without an open area?**"
   ]
  },
  {
   "cell_type": "code",
   "execution_count": 68,
   "metadata": {},
   "outputs": [
    {
     "data": {
      "text/plain": [
       "15"
      ]
     },
     "execution_count": 68,
     "metadata": {},
     "output_type": "execute_result"
    }
   ],
   "source": [
    "# Filter smokers\n",
    "customers = userprofile[userprofile.smoker == 'true']\n",
    "# Filter the restaurants without an open area\n",
    "restaurants = geoplaces2[geoplaces2.area != 'open']\n",
    "# Merge restaurants, customers and rating_final\n",
    "rating = pd.merge(restaurants.loc[:, ['placeID', 'area']], \n",
    "                  rating_final.loc[:, ['placeID', 'userID', 'service_rating']], on='placeID')\n",
    "rating = pd.merge(rating, customers.loc[:, ['userID', 'smoker']], on='userID')\n",
    "# Find the number of smokers gave service_rating=0\n",
    "len(rating[rating.service_rating == 0]['userID'].unique())"
   ]
  },
  {
   "cell_type": "markdown",
   "metadata": {},
   "source": [
    "**2.2.8. Find the correlation between different rating categories ((general) rating, food_rating, service_rating) with the price levels of the\n",
    "restaurants.**"
   ]
  },
  {
   "cell_type": "code",
   "execution_count": 69,
   "metadata": {},
   "outputs": [
    {
     "data": {
      "text/html": [
       "<div>\n",
       "<style scoped>\n",
       "    .dataframe tbody tr th:only-of-type {\n",
       "        vertical-align: middle;\n",
       "    }\n",
       "\n",
       "    .dataframe tbody tr th {\n",
       "        vertical-align: top;\n",
       "    }\n",
       "\n",
       "    .dataframe thead th {\n",
       "        text-align: right;\n",
       "    }\n",
       "</style>\n",
       "<table border=\"1\" class=\"dataframe\">\n",
       "  <thead>\n",
       "    <tr style=\"text-align: right;\">\n",
       "      <th></th>\n",
       "      <th>rating</th>\n",
       "      <th>food_rating</th>\n",
       "      <th>service_rating</th>\n",
       "      <th>price</th>\n",
       "    </tr>\n",
       "  </thead>\n",
       "  <tbody>\n",
       "    <tr>\n",
       "      <th>1123</th>\n",
       "      <td>1</td>\n",
       "      <td>1</td>\n",
       "      <td>1</td>\n",
       "      <td>medium</td>\n",
       "    </tr>\n",
       "    <tr>\n",
       "      <th>696</th>\n",
       "      <td>0</td>\n",
       "      <td>2</td>\n",
       "      <td>0</td>\n",
       "      <td>medium</td>\n",
       "    </tr>\n",
       "    <tr>\n",
       "      <th>412</th>\n",
       "      <td>2</td>\n",
       "      <td>2</td>\n",
       "      <td>2</td>\n",
       "      <td>medium</td>\n",
       "    </tr>\n",
       "    <tr>\n",
       "      <th>763</th>\n",
       "      <td>0</td>\n",
       "      <td>0</td>\n",
       "      <td>0</td>\n",
       "      <td>low</td>\n",
       "    </tr>\n",
       "    <tr>\n",
       "      <th>339</th>\n",
       "      <td>0</td>\n",
       "      <td>0</td>\n",
       "      <td>0</td>\n",
       "      <td>medium</td>\n",
       "    </tr>\n",
       "    <tr>\n",
       "      <th>1049</th>\n",
       "      <td>1</td>\n",
       "      <td>1</td>\n",
       "      <td>1</td>\n",
       "      <td>medium</td>\n",
       "    </tr>\n",
       "    <tr>\n",
       "      <th>898</th>\n",
       "      <td>1</td>\n",
       "      <td>1</td>\n",
       "      <td>1</td>\n",
       "      <td>high</td>\n",
       "    </tr>\n",
       "    <tr>\n",
       "      <th>824</th>\n",
       "      <td>1</td>\n",
       "      <td>2</td>\n",
       "      <td>1</td>\n",
       "      <td>high</td>\n",
       "    </tr>\n",
       "    <tr>\n",
       "      <th>984</th>\n",
       "      <td>0</td>\n",
       "      <td>0</td>\n",
       "      <td>0</td>\n",
       "      <td>low</td>\n",
       "    </tr>\n",
       "    <tr>\n",
       "      <th>62</th>\n",
       "      <td>1</td>\n",
       "      <td>2</td>\n",
       "      <td>0</td>\n",
       "      <td>low</td>\n",
       "    </tr>\n",
       "  </tbody>\n",
       "</table>\n",
       "</div>"
      ],
      "text/plain": [
       "      rating  food_rating  service_rating   price\n",
       "1123       1            1               1  medium\n",
       "696        0            2               0  medium\n",
       "412        2            2               2  medium\n",
       "763        0            0               0     low\n",
       "339        0            0               0  medium\n",
       "1049       1            1               1  medium\n",
       "898        1            1               1    high\n",
       "824        1            2               1    high\n",
       "984        0            0               0     low\n",
       "62         1            2               0     low"
      ]
     },
     "execution_count": 69,
     "metadata": {},
     "output_type": "execute_result"
    }
   ],
   "source": [
    "# Merge the restaurants and rating_final\n",
    "restaurants = geoplaces2.loc[:, ['placeID', 'price']]\n",
    "correlation = pd.merge(rating_final, restaurants, on='placeID')\n",
    "# Get columns 'rating', 'food_rating', 'service_rating' and 'price' only\n",
    "correlation = correlation.loc[:, ['rating', 'food_rating', 'service_rating', 'price']]\n",
    "correlation.sample(10)"
   ]
  },
  {
   "cell_type": "markdown",
   "metadata": {},
   "source": [
    "Maybe the low price restaurants will have higher ratings?"
   ]
  },
  {
   "cell_type": "code",
   "execution_count": 70,
   "metadata": {},
   "outputs": [
    {
     "data": {
      "text/html": [
       "<div>\n",
       "<style scoped>\n",
       "    .dataframe tbody tr th:only-of-type {\n",
       "        vertical-align: middle;\n",
       "    }\n",
       "\n",
       "    .dataframe tbody tr th {\n",
       "        vertical-align: top;\n",
       "    }\n",
       "\n",
       "    .dataframe thead th {\n",
       "        text-align: right;\n",
       "    }\n",
       "</style>\n",
       "<table border=\"1\" class=\"dataframe\">\n",
       "  <thead>\n",
       "    <tr style=\"text-align: right;\">\n",
       "      <th></th>\n",
       "      <th>rating</th>\n",
       "      <th>food_rating</th>\n",
       "      <th>service_rating</th>\n",
       "      <th>price</th>\n",
       "    </tr>\n",
       "  </thead>\n",
       "  <tbody>\n",
       "    <tr>\n",
       "      <th>rating</th>\n",
       "      <td>1.000000</td>\n",
       "      <td>0.714855</td>\n",
       "      <td>0.690757</td>\n",
       "      <td>-0.090745</td>\n",
       "    </tr>\n",
       "    <tr>\n",
       "      <th>food_rating</th>\n",
       "      <td>0.714855</td>\n",
       "      <td>1.000000</td>\n",
       "      <td>0.647177</td>\n",
       "      <td>-0.051081</td>\n",
       "    </tr>\n",
       "    <tr>\n",
       "      <th>service_rating</th>\n",
       "      <td>0.690757</td>\n",
       "      <td>0.647177</td>\n",
       "      <td>1.000000</td>\n",
       "      <td>-0.118696</td>\n",
       "    </tr>\n",
       "    <tr>\n",
       "      <th>price</th>\n",
       "      <td>-0.090745</td>\n",
       "      <td>-0.051081</td>\n",
       "      <td>-0.118696</td>\n",
       "      <td>1.000000</td>\n",
       "    </tr>\n",
       "  </tbody>\n",
       "</table>\n",
       "</div>"
      ],
      "text/plain": [
       "                  rating  food_rating  service_rating     price\n",
       "rating          1.000000     0.714855        0.690757 -0.090745\n",
       "food_rating     0.714855     1.000000        0.647177 -0.051081\n",
       "service_rating  0.690757     0.647177        1.000000 -0.118696\n",
       "price          -0.090745    -0.051081       -0.118696  1.000000"
      ]
     },
     "execution_count": 70,
     "metadata": {},
     "output_type": "execute_result"
    }
   ],
   "source": [
    "c = correlation.copy()\n",
    "c.price.replace({'low': 2, 'medium': 1, 'high': 0}, inplace=True)\n",
    "c.corr()"
   ]
  },
  {
   "cell_type": "markdown",
   "metadata": {},
   "source": [
    "Maybe the medium price restaurants can balance the quality both in food, services and general so they can get the highest ratings?"
   ]
  },
  {
   "cell_type": "code",
   "execution_count": 71,
   "metadata": {},
   "outputs": [
    {
     "data": {
      "text/html": [
       "<div>\n",
       "<style scoped>\n",
       "    .dataframe tbody tr th:only-of-type {\n",
       "        vertical-align: middle;\n",
       "    }\n",
       "\n",
       "    .dataframe tbody tr th {\n",
       "        vertical-align: top;\n",
       "    }\n",
       "\n",
       "    .dataframe thead th {\n",
       "        text-align: right;\n",
       "    }\n",
       "</style>\n",
       "<table border=\"1\" class=\"dataframe\">\n",
       "  <thead>\n",
       "    <tr style=\"text-align: right;\">\n",
       "      <th></th>\n",
       "      <th>rating</th>\n",
       "      <th>food_rating</th>\n",
       "      <th>service_rating</th>\n",
       "      <th>price</th>\n",
       "    </tr>\n",
       "  </thead>\n",
       "  <tbody>\n",
       "    <tr>\n",
       "      <th>rating</th>\n",
       "      <td>1.000000</td>\n",
       "      <td>0.714855</td>\n",
       "      <td>0.690757</td>\n",
       "      <td>0.024884</td>\n",
       "    </tr>\n",
       "    <tr>\n",
       "      <th>food_rating</th>\n",
       "      <td>0.714855</td>\n",
       "      <td>1.000000</td>\n",
       "      <td>0.647177</td>\n",
       "      <td>0.026627</td>\n",
       "    </tr>\n",
       "    <tr>\n",
       "      <th>service_rating</th>\n",
       "      <td>0.690757</td>\n",
       "      <td>0.647177</td>\n",
       "      <td>1.000000</td>\n",
       "      <td>0.036206</td>\n",
       "    </tr>\n",
       "    <tr>\n",
       "      <th>price</th>\n",
       "      <td>0.024884</td>\n",
       "      <td>0.026627</td>\n",
       "      <td>0.036206</td>\n",
       "      <td>1.000000</td>\n",
       "    </tr>\n",
       "  </tbody>\n",
       "</table>\n",
       "</div>"
      ],
      "text/plain": [
       "                  rating  food_rating  service_rating     price\n",
       "rating          1.000000     0.714855        0.690757  0.024884\n",
       "food_rating     0.714855     1.000000        0.647177  0.026627\n",
       "service_rating  0.690757     0.647177        1.000000  0.036206\n",
       "price           0.024884     0.026627        0.036206  1.000000"
      ]
     },
     "execution_count": 71,
     "metadata": {},
     "output_type": "execute_result"
    }
   ],
   "source": [
    "c = correlation.copy()\n",
    "c.price.replace({'low': 1, 'medium': 2, 'high': 0}, inplace=True)\n",
    "c.corr()"
   ]
  },
  {
   "cell_type": "markdown",
   "metadata": {},
   "source": [
    "---\n",
    "---"
   ]
  },
  {
   "cell_type": "markdown",
   "metadata": {},
   "source": [
    "**Store the cleaned data frames to use in Assignment 3**"
   ]
  },
  {
   "cell_type": "code",
   "execution_count": 72,
   "metadata": {},
   "outputs": [
    {
     "name": "stdout",
     "output_type": "stream",
     "text": [
      "Stored 'chefmozaccepts' (DataFrame)\n",
      "Stored 'chefmozcuisine' (DataFrame)\n",
      "Stored 'chefmozhours4' (DataFrame)\n",
      "Stored 'chefmozparking' (DataFrame)\n",
      "Stored 'geoplaces2' (DataFrame)\n",
      "Stored 'usercuisine' (DataFrame)\n",
      "Stored 'userpayment' (DataFrame)\n",
      "Stored 'userprofile' (DataFrame)\n",
      "Stored 'rating_final' (DataFrame)\n"
     ]
    }
   ],
   "source": [
    "%store chefmozaccepts\n",
    "%store chefmozcuisine\n",
    "%store chefmozhours4\n",
    "%store chefmozparking\n",
    "%store geoplaces2\n",
    "%store usercuisine\n",
    "%store userpayment\n",
    "%store userprofile\n",
    "%store rating_final"
   ]
  }
 ],
 "metadata": {
  "kernelspec": {
   "display_name": "Python 3",
   "language": "python",
   "name": "python3"
  },
  "language_info": {
   "codemirror_mode": {
    "name": "ipython",
    "version": 3
   },
   "file_extension": ".py",
   "mimetype": "text/x-python",
   "name": "python",
   "nbconvert_exporter": "python",
   "pygments_lexer": "ipython3",
   "version": "3.6.5"
  }
 },
 "nbformat": 4,
 "nbformat_minor": 2
}
